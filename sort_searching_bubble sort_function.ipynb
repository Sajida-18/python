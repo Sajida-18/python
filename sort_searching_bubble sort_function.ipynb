{
 "cells": [
  {
   "cell_type": "code",
   "execution_count": null,
   "id": "d70da7be",
   "metadata": {},
   "outputs": [],
   "source": [
    "#sorted(iterable, key, reverse=False)----return a copy of original\n",
    "                                    #handle korte pare(string,list,tuple, dictionary)\n",
    "#List_name.sort(ket, reverse=False)---moified the original--Only for list\n",
    "\n",
    "\n",
    "by deault reverse=False(Ascending order---(choto theke boro))\n",
    "          reverse=True (Descending order---(boro theke choto))"
   ]
  },
  {
   "cell_type": "code",
   "execution_count": 4,
   "id": "141052b0",
   "metadata": {},
   "outputs": [
    {
     "name": "stdout",
     "output_type": "stream",
     "text": [
      "sorted: ['abcd', 'ef', 'g', 'hjiki', 'pqr', 'srf', 'z']\n",
      "original:  ['z', 'srf', 'abcd', 'ef', 'g', 'hjiki', 'pqr']\n"
     ]
    }
   ],
   "source": [
    "words= ['z','srf','abcd','ef','g','hjiki','pqr']\n",
    "sorted_words= sorted(words)\n",
    "print(\"sorted:\", sorted_words) #reverse na dile by default ascending order a sort hobe\n",
    "print(\"original: \",words)"
   ]
  },
  {
   "cell_type": "code",
   "execution_count": 5,
   "id": "86e1e923",
   "metadata": {},
   "outputs": [
    {
     "name": "stdout",
     "output_type": "stream",
     "text": [
      "sorted: ['hjiki', 'abcd', 'srf', 'pqr', 'ef', 'z', 'g']\n",
      "original:  ['z', 'srf', 'abcd', 'ef', 'g', 'hjiki', 'pqr']\n"
     ]
    }
   ],
   "source": [
    "words= ['z','srf','abcd','ef','g','hjiki','pqr']\n",
    "sorted_words= sorted(words ,key=len, reverse=True) #len wise sort korbe\n",
    "print(\"sorted:\", sorted_words)#high to low\n",
    "print(\"original: \",words)"
   ]
  },
  {
   "cell_type": "code",
   "execution_count": 6,
   "id": "33f9df5c",
   "metadata": {},
   "outputs": [
    {
     "name": "stdout",
     "output_type": "stream",
     "text": [
      "sorted keys: [100, 44, 2, 1, -5]\n"
     ]
    }
   ],
   "source": [
    "dict1={1:\"A\",100:\"B\", -5:\"C\", 44:\"D\", 2:\"E\"}\n",
    "sorted_keys= sorted(dict1, reverse=True)\n",
    "print(\"sorted keys:\",sorted_keys)"
   ]
  },
  {
   "cell_type": "code",
   "execution_count": 7,
   "id": "766320a0",
   "metadata": {},
   "outputs": [
    {
     "name": "stdout",
     "output_type": "stream",
     "text": [
      "sorted keys: [100, 44, 2, 1, -5]\n",
      "key 100 Val B\n",
      "key 44 Val D\n",
      "key 2 Val E\n",
      "key 1 Val A\n",
      "key -5 Val C\n"
     ]
    }
   ],
   "source": [
    "dict1={1:\"A\",100:\"B\", -5:\"C\", 44:\"D\", 2:\"E\"}\n",
    "sorted_keys= sorted(dict1, reverse=True)\n",
    "print(\"sorted keys:\",sorted_keys)         #dictionary ar modde key value aksathe sort kora jai na\n",
    "                                           #either key or value\n",
    "for key in sorted_keys:\n",
    "    print(\"key\",key,\"Val\",dict1[key])"
   ]
  },
  {
   "cell_type": "code",
   "execution_count": 1,
   "id": "ab46413a",
   "metadata": {},
   "outputs": [
    {
     "name": "stdout",
     "output_type": "stream",
     "text": [
      "num list : [1, 2.45, 666, 4, -6, 0, 847]\n",
      "num_sorted:  [-6, 0, 1, 2.45, 4, 666, 847]\n"
     ]
    }
   ],
   "source": [
    "#sorted()\n",
    "\n",
    "num=[1,2.45,666,4,-2 -4,0,847]\n",
    "num_sorted= sorted(num)#sorted function ager list ar kono change kortase na...sorted function new akta list amder return kortase\n",
    "                    # it will return a sorted list,but it will not change num_list\n",
    "print(\"num list :\",num)\n",
    "print(\"num_sorted: \",num_sorted)"
   ]
  },
  {
   "cell_type": "code",
   "execution_count": null,
   "id": "c3ee0737",
   "metadata": {},
   "outputs": [],
   "source": []
  },
  {
   "cell_type": "code",
   "execution_count": 3,
   "id": "b3162131",
   "metadata": {},
   "outputs": [
    {
     "name": "stdout",
     "output_type": "stream",
     "text": [
      "BRAC UNIVERSITY\n",
      "[' ', 'A', 'B', 'C', 'E', 'I', 'I', 'N', 'R', 'R', 'S', 'T', 'U', 'V', 'Y']\n"
     ]
    }
   ],
   "source": [
    "char= \"BRAC UNIVERSITY\"\n",
    "char_sorted= sorted(char)\n",
    "print(char)\n",
    "print(char_sorted)"
   ]
  },
  {
   "cell_type": "code",
   "execution_count": 4,
   "id": "5fd4a4cf",
   "metadata": {},
   "outputs": [
    {
     "name": "stdout",
     "output_type": "stream",
     "text": [
      "[1, 2, 6, 10, 6, 77, 96, -7, -4]\n",
      "[96, 77, 10, 6, 6, 2, 1, -4, -7]\n"
     ]
    }
   ],
   "source": [
    "#reverse()\n",
    "\n",
    "num= [1,2,6,10,6,77,96,-7,-4]\n",
    "num_sorted= sorted(num, reverse=True)#boro theke choto print korse\n",
    "print(num)\n",
    "print(num_sorted)"
   ]
  },
  {
   "cell_type": "code",
   "execution_count": 7,
   "id": "b722e956",
   "metadata": {},
   "outputs": [
    {
     "name": "stdout",
     "output_type": "stream",
     "text": [
      "['Alooz', 'Lays', 'Mr.Tuist', 'Potato crackers', 'Sun']\n",
      "Alooz : 15\n",
      "Lays : 10\n",
      "Mr.Tuist : 30\n",
      "Potato crackers : 50\n",
      "Sun : 25\n"
     ]
    }
   ],
   "source": [
    "chips= {\"Lays\":10,\"Mr.Tuist\":30,\"Potato crackers\":50,\"Alooz\":15,\"Sun\":25}\n",
    "sorted_chips= sorted(chips)\n",
    "print(sorted_chips)#sudhu key gullo sort hobe \n",
    "for key in sorted_chips:\n",
    "    print(key,\":\",chips[key])# aivabe key value soho print hobe"
   ]
  },
  {
   "cell_type": "code",
   "execution_count": 9,
   "id": "fe330a43",
   "metadata": {},
   "outputs": [
    {
     "name": "stdout",
     "output_type": "stream",
     "text": [
      "['Alooz', 'Lays', 'Mr.Tuist', 'Potato crackers', 'Sun']\n",
      "{'Alooz': 15, 'Lays': 10, 'Mr.Tuist': 30, 'Potato crackers': 50, 'Sun': 25}\n"
     ]
    }
   ],
   "source": [
    "chips= {\"Lays\":10,\"Mr.Tuist\":30,\"Potato crackers\":50,\"Alooz\":15,\"Sun\":25}\n",
    "sorted_chips= sorted(chips)\n",
    "print(sorted_chips)#sudhu key gullo sort hobe \n",
    "ans={}\n",
    "for key in sorted_chips:\n",
    "    ans[key]=chips[key]   #aita alphabetically sorted hoise\n",
    "print(ans)"
   ]
  },
  {
   "cell_type": "code",
   "execution_count": 10,
   "id": "2be2a28c",
   "metadata": {},
   "outputs": [
    {
     "name": "stdout",
     "output_type": "stream",
     "text": [
      "['Sun', 'Potato crackers', 'Mr.Tuist', 'Lays', 'Alooz']\n",
      "{'Sun': 25, 'Potato crackers': 50, 'Mr.Tuist': 30, 'Lays': 10, 'Alooz': 15}\n"
     ]
    }
   ],
   "source": [
    "chips= {\"Lays\":10,\"Mr.Tuist\":30,\"Potato crackers\":50,\"Alooz\":15,\"Sun\":25}\n",
    "sorted_chips= sorted(chips,reverse=True)\n",
    "print(sorted_chips)#sudhu key gullo sort hobe \n",
    "ans={}\n",
    "for key in sorted_chips:\n",
    "    ans[key]=chips[key]   #aita opposite vabe  sorted hoise\n",
    "print(ans)"
   ]
  },
  {
   "cell_type": "code",
   "execution_count": 11,
   "id": "4cd762f2",
   "metadata": {},
   "outputs": [
    {
     "name": "stdout",
     "output_type": "stream",
     "text": [
      "[-7, -4, 1, 2, 6, 6, 10, 77, 96]\n",
      "None\n"
     ]
    }
   ],
   "source": [
    "#sort()\n",
    "# work with only just list.\n",
    "# sort() function returns None\n",
    "\n",
    "\n",
    "num= [1,2,6,10,6,77,96,-7,-4]\n",
    "num_sorted= num.sort()\n",
    "print(num)\n",
    "print(num_sorted)# return korse None"
   ]
  },
  {
   "cell_type": "code",
   "execution_count": 12,
   "id": "b8553d8b",
   "metadata": {},
   "outputs": [
    {
     "name": "stdout",
     "output_type": "stream",
     "text": [
      "[-7, -4, 1, 2, 6, 6, 10, 77, 96]\n"
     ]
    }
   ],
   "source": [
    "num= [1,2,6,10,6,77,96,-7,-4]\n",
    "num.sort()\n",
    "print(num)"
   ]
  },
  {
   "cell_type": "code",
   "execution_count": 13,
   "id": "5820a17e",
   "metadata": {},
   "outputs": [
    {
     "name": "stdout",
     "output_type": "stream",
     "text": [
      "[96, 77, 10, 6, 6, 2, 1, -4, -7]\n"
     ]
    }
   ],
   "source": [
    "num= [1,2,6,10,6,77,96,-7,-4]\n",
    "num.sort(reverse=True)\n",
    "print(num)"
   ]
  },
  {
   "cell_type": "code",
   "execution_count": 16,
   "id": "518e1400",
   "metadata": {},
   "outputs": [
    {
     "name": "stdout",
     "output_type": "stream",
     "text": [
      "[-66, -9, 1, 3, 5, 7, 99, 100]\n"
     ]
    }
   ],
   "source": [
    "#using sort for all type of language.....not use in built in function\n",
    "\n",
    "def selection_sort(list1):\n",
    "    for index in range(len(list1)):\n",
    "    #finding minimum and swap with list1[index]\\\n",
    "        min_num=list1[index]\n",
    "        min_index= index\n",
    "        for j in range(index+1, len(list1)):\n",
    "            if list1[j]<min_num:\n",
    "                min_num= list1[j]\n",
    "                min_index=j\n",
    "        #swap list1[min_index] with lis1[index]\n",
    "        #  lis1[min_index], lis1[index]= lis1[index], lis1[min_index]  ......not applicable always\n",
    "        temp= list1[min_index]\n",
    "        list1[min_index]=list1[index]\n",
    "        list1[index]=temp   #trmp=trmporary\n",
    "    return list1\n",
    "numbers=[3,5,7,1,2-11,-66,99,100]\n",
    "sorted_numbers=selection_sort(numbers)\n",
    "print(sorted_numbers)"
   ]
  },
  {
   "cell_type": "code",
   "execution_count": 15,
   "id": "b7925a3b",
   "metadata": {},
   "outputs": [
    {
     "name": "stdout",
     "output_type": "stream",
     "text": [
      "[-66, -9, 1, 3, 5, 7, 99, 100]\n"
     ]
    }
   ],
   "source": [
    "numbers=[3,5,7,1,2-11,-66,99,100]\n",
    "for index1 in range(len(numbers)):\n",
    "    min_val=numbers[index1]\n",
    "    min_index=index1\n",
    "    for index2 in range(index1+1,len(numbers)):\n",
    "        if numbers[index2]<min_val:\n",
    "            min_val=numbers[index2]\n",
    "            min_index=index2\n",
    "    temp=numbers[min_index]\n",
    "    numbers[min_index]=numbers[index1]\n",
    "    numbers[index1]=temp\n",
    "print(numbers)"
   ]
  },
  {
   "cell_type": "code",
   "execution_count": 17,
   "id": "53784871",
   "metadata": {},
   "outputs": [
    {
     "name": "stdout",
     "output_type": "stream",
     "text": [
      "[100, 99, 7, 5, 3, 1, -9, -66]\n"
     ]
    }
   ],
   "source": [
    "def selection_sort(list1):\n",
    "    for index in range(len(list1)):\n",
    "    #finding minimum and swap with list1[index]\\\n",
    "        min_num=list1[index]\n",
    "        min_index= index\n",
    "        for j in range(index+1, len(list1)):\n",
    "            if list1[j]>min_num:  #just condition change korlei reverse a print hobe\n",
    "                min_num= list1[j]\n",
    "                min_index=j\n",
    "        #swap list1[min_index] with lis1[index]\n",
    "        #  lis1[min_index], lis1[index]= lis1[index], lis1[min_index]  ......not applicable always\n",
    "        temp= list1[min_index]\n",
    "        list1[min_index]=list1[index]\n",
    "        list1[index]=temp   #trmp=trmporary\n",
    "    return list1\n",
    "numbers=[3,5,7,1,2-11,-66,99,100]\n",
    "sorted_numbers=selection_sort(numbers)\n",
    "print(sorted_numbers)"
   ]
  },
  {
   "cell_type": "code",
   "execution_count": 14,
   "id": "59614388",
   "metadata": {},
   "outputs": [
    {
     "name": "stdout",
     "output_type": "stream",
     "text": [
      "Before: [17, 3, -9, 21, 2]\n",
      "min_val -9 min_index 2\n"
     ]
    }
   ],
   "source": [
    "#selection sort \n",
    "#maximum ke selec korbo nahole minimum ke select lorbo\n",
    "#max select korle ---descending wise sort\n",
    "# min selec korle ascending wise sort\n",
    "\n",
    "\n",
    "numbers=[17 , 3, -9, 21, 2]\n",
    "       # 0    1   2   3  4\n",
    "print(\"Before:\" ,numbers)\n",
    "\n",
    "min_index=0\n",
    "min_val= numbers[min_index]\n",
    "\n",
    "#finding the minimum value\n",
    "for index2 in range(1, len(numbers)):\n",
    "    current_val= numbers[index2]\n",
    "    if current_val < min_val:\n",
    "        min_val = numbers[index2]\n",
    "        min_index = index2\n",
    "print(\"min_val\",min_val,\"min_index\",min_index)\n",
    "\n",
    "#swapping\n",
    "temp= min_val\n",
    "numbers[min_index]= numbers[index]\n",
    "numbers[index]=temp\n"
   ]
  },
  {
   "cell_type": "code",
   "execution_count": 20,
   "id": "e3834eac",
   "metadata": {},
   "outputs": [
    {
     "name": "stdout",
     "output_type": "stream",
     "text": [
      "Before: [17, 3, -9, 21, 2]\n",
      "min_val 2 min_index 4\n",
      "[17, 3, -9, 2, 21]\n"
     ]
    }
   ],
   "source": [
    "numbers=[17 , 3, -9, 21, 2]\n",
    "       # 0    1   2   3  4\n",
    "print(\"Before:\" ,numbers)\n",
    "for index1 in range(0, len(numbers)-1):\n",
    "    min_val= numbers[index1]\n",
    "    min_index=index1\n",
    "\n",
    "#finding the minimum value\n",
    "    for index2 in range(index1+1, len(numbers)):\n",
    "        current_val= numbers[index2]\n",
    "        if current_val < min_val:\n",
    "            min_val = numbers[index2]\n",
    "            min_index = index2\n",
    "print(\"min_val\",min_val,\"min_index\",min_index)\n",
    "\n",
    "#swapping\n",
    "temp=numbers[min_index]\n",
    "numbers[min_index]= numbers[index1]\n",
    "numbers[index1]=temp\n",
    "print(numbers)"
   ]
  },
  {
   "cell_type": "code",
   "execution_count": 20,
   "id": "b45eb90a",
   "metadata": {},
   "outputs": [
    {
     "name": "stdout",
     "output_type": "stream",
     "text": [
      "Before: [17, 3, -9, 21, 2]\n",
      "[-9, 2, 3, 17, 21]\n"
     ]
    }
   ],
   "source": [
    "numbers=[17 , 3, -9, 21, 2]\n",
    "       # 0    1   2   3  4\n",
    "print(\"Before:\" ,numbers)\n",
    "for index1 in range(0, len(numbers)-1):\n",
    "    min_val= numbers[index1]\n",
    "    min_index=index1\n",
    "\n",
    "#finding the minimum value\n",
    "    for index2 in range(index1+1, len(numbers)):\n",
    "        current_val= numbers[index2]\n",
    "        if current_val < min_val:\n",
    "            min_val = numbers[index2]\n",
    "            min_index = index2\n",
    "    temp= min_val\n",
    "    numbers[min_index]= numbers[index1]\n",
    "    numbers[index1]=temp\n",
    "print(numbers)"
   ]
  },
  {
   "cell_type": "code",
   "execution_count": null,
   "id": "d20ae8a1",
   "metadata": {},
   "outputs": [],
   "source": []
  },
  {
   "cell_type": "code",
   "execution_count": 1,
   "id": "9ca4eb11",
   "metadata": {},
   "outputs": [
    {
     "name": "stdout",
     "output_type": "stream",
     "text": [
      "[1, 2, 3, 4, 5, 7, 8, 9]\n"
     ]
    }
   ],
   "source": [
    "#Bubble sort\n",
    "\n",
    "list1=[5,3,1,9,8,2,4,7]\n",
    "for i in range(len(list1)-1):  #n-1\n",
    "    for j in range(len(list1)-i-1): #n-i-2(this is the relation between i and j)\n",
    "                            #we use n-i-1 because this is exclusive\n",
    "        if list1[j]>list1[j+1]:\n",
    "            temp=list1[j]\n",
    "            list1[j]=list1[j+1]\n",
    "            list1[j+1]=temp\n",
    "print(list1)"
   ]
  },
  {
   "cell_type": "code",
   "execution_count": 21,
   "id": "1a646198",
   "metadata": {},
   "outputs": [
    {
     "name": "stdout",
     "output_type": "stream",
     "text": [
      "[1, 2, 3, 4, 5, 7, 8, 9]\n"
     ]
    }
   ],
   "source": [
    "list1=[5,3,1,9,8,2,4,7]\n",
    "for index1 in range(len(list1)-1):\n",
    "    for index2 in range(len(list1)-index1-1):\n",
    "        if list1[index2]>list1[index2+1]:\n",
    "            temp=list1[index2]\n",
    "            list1[index2]=list1[index2+1]\n",
    "            list1[index2+1]=temp\n",
    "print(list1)"
   ]
  },
  {
   "cell_type": "code",
   "execution_count": 9,
   "id": "b1bf575a",
   "metadata": {},
   "outputs": [
    {
     "name": "stdout",
     "output_type": "stream",
     "text": [
      "Element found at index 2\n"
     ]
    }
   ],
   "source": [
    "#linear search\n",
    "\n",
    "def linear_search(l1,x):\n",
    "    for i in l1:\n",
    "        if i==x:\n",
    "            return l1.index(i)\n",
    "    return -1  #by convention(if we don't find someting or something is wrong then we return -1)\n",
    "    \n",
    "index=linear_search([1,2,5,9,3],5)\n",
    "#we can write also\n",
    "#list1=[1,2,5,9,3]\n",
    "#x=5\n",
    "#index=linear_search(list1,x)\n",
    "\n",
    "if index != -1:\n",
    "    print(\"Element found at index\",index)\n",
    "else:\n",
    "     print(\"Element not found\")\n",
    "          "
   ]
  },
  {
   "cell_type": "code",
   "execution_count": 11,
   "id": "b53a519c",
   "metadata": {},
   "outputs": [
    {
     "name": "stdout",
     "output_type": "stream",
     "text": [
      "Found at location 0\n"
     ]
    }
   ],
   "source": [
    "#binary search\n",
    "\n",
    "def binary_search(sortedSeq,x): #we are sending the sorted list and the element which we are tring to found\n",
    "    l= 0 #left\n",
    "    r= len(sortedSeq)-1 #n-1    #right\n",
    "    while l<= r:\n",
    "        mid_index= 1+(r-1)//2  #we can also write (l+r)//2\n",
    "        if sortedSeq[mid_index]==x:\n",
    "            return mid_index\n",
    "        elif sortedSeq[mid_index]>x:\n",
    "            r = mid_index-1  #x is smaller than mid element, so seach the left portion\n",
    "        else:\n",
    "            l= mid_index+1\n",
    "    return None\n",
    "index= binary_search([2,3,5,6,10,15],2)\n",
    "if index==None:\n",
    "    print(\"Not found\")\n",
    "else:\n",
    "    print(\"Found at location\",index)"
   ]
  },
  {
   "cell_type": "code",
   "execution_count": 12,
   "id": "ea763f6e",
   "metadata": {},
   "outputs": [
    {
     "name": "stdout",
     "output_type": "stream",
     "text": [
      "[70, 60, 40, 20, 10]\n"
     ]
    }
   ],
   "source": [
    "num=[10,20,70,60,40]\n",
    "print(sorted(num,reverse=True))"
   ]
  },
  {
   "cell_type": "code",
   "execution_count": null,
   "id": "17b9d67e",
   "metadata": {},
   "outputs": [],
   "source": [
    "#task7\n",
    "list1 = [1, 1, 1, 2, 4, 4, 5]\n",
    "for index in range(len(list1)):\n",
    "    print(index)\n",
    "    if len(list1)%2==0:\n",
    "        a=int(len(list1)/2)\n",
    "        median=(list1[a-1]+list1[a])/2\n",
    "    else:\n",
    "        a= int(len(list1)//2)\n",
    "        median= list1[a]\n",
    "print(median)\n",
    "\n"
   ]
  }
 ],
 "metadata": {
  "kernelspec": {
   "display_name": "Python 3 (ipykernel)",
   "language": "python",
   "name": "python3"
  },
  "language_info": {
   "codemirror_mode": {
    "name": "ipython",
    "version": 3
   },
   "file_extension": ".py",
   "mimetype": "text/x-python",
   "name": "python",
   "nbconvert_exporter": "python",
   "pygments_lexer": "ipython3",
   "version": "3.9.7"
  }
 },
 "nbformat": 4,
 "nbformat_minor": 5
}
